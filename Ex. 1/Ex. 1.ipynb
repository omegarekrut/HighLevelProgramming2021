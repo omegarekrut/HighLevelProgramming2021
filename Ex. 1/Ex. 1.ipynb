{
 "cells": [
  {
   "cell_type": "markdown",
   "metadata": {},
   "source": [
    "he HelloWorld replacement\n",
    "a) Write a program that prints the numbers from 1 to 100. But for multiples of three print \"Hello\" instead of the number and for the multiples of five print \"World\". For numbers which are multiples of both three and five print \"HelloWorld\".\n",
    "\n",
    "b) Put the result in a tuple and substitute \"Hello\" with \"Python\" and \"World\" with \"Works\"."
   ]
  },
  {
   "cell_type": "code",
   "execution_count": 1,
   "metadata": {},
   "outputs": [
    {
     "name": "stdout",
     "output_type": "stream",
     "text": [
      "1 2 Hello 4 World Hello 7 8 Hello World 11 Hello 13 14 |Hello World| 16 17 Hello 19 World Hello 22 23 Hello World 26 Hello 28 29 |Hello World| 31 32 Hello 34 World Hello 37 38 Hello World 41 Hello 43 44 |Hello World| 46 47 Hello 49 World Hello 52 53 Hello World 56 Hello 58 59 |Hello World| 61 62 Hello 64 World Hello 67 68 Hello World 71 Hello 73 74 |Hello World| 76 77 Hello 79 World Hello 82 83 Hello World 86 Hello 88 89 |Hello World| 91 92 Hello 94 World Hello 97 98 Hello World \n",
      "\n",
      "1 2 Python 4 Works Python 7 8 Python Works 11 Python 13 14 |Python Works| 16 17 Python 19 Works Python 22 23 Python Works 26 Python 28 29 |Python Works| 31 32 Python 34 Works Python 37 38 Python Works 41 Python 43 44 |Python Works| 46 47 Python 49 Works Python 52 53 Python Works 56 Python 58 59 |Python Works| 61 62 Python 64 Works Python 67 68 Python Works 71 Python 73 74 |Python Works| 76 77 Python 79 Works Python 82 83 Python Works 86 Python 88 89 |Python Works| 91 92 Python 94 Works Python 97 98 Python Works "
     ]
    }
   ],
   "source": [
    "def printHelloWorld(*args):\n",
    "    mylist = []\n",
    "    for i in range(1, 101):\n",
    "        output = \"\"\n",
    "        if (i % 15 == 0):\n",
    "            output += \"|Hello World| \"\n",
    "        elif (i % 3 == 0):\n",
    "            output += \"Hello \"\n",
    "        elif (i % 5 == 0):\n",
    "            output += \"World \"\n",
    "        else:\n",
    "            mylist.append(i)\n",
    "            print(i, end=\" \")\n",
    "        mylist.append(output)\n",
    "        print(output, end=\"\")\n",
    "    mylist2 = [x for x in mylist if x]\n",
    "    return mylist2\n",
    "\n",
    "mytuple = printHelloWorld()\n",
    "\n",
    "def printTubleHelloWorld(*args):\n",
    "    print(\"\\n\")\n",
    "    for i in range(100):\n",
    "        if mytuple[i] == \"|Hello World| \":\n",
    "            mytuple[i] = \"|Python Works|\"\n",
    "        elif mytuple[i] == \"Hello \":\n",
    "            mytuple[i] = \"Python\"\n",
    "        elif mytuple[i] == \"World \":\n",
    "            mytuple[i] = \"Works\"\n",
    "        print(mytuple[i], end=\" \")\n",
    "printTubleHelloWorld()"
   ]
  },
  {
   "cell_type": "markdown",
   "metadata": {},
   "source": [
    "2. The swap function\n",
    "\n",
    "Write a function that swap the values of two input variables x and y (whatever the type). Try to do that also without a temporary variable"
   ]
  },
  {
   "cell_type": "code",
   "execution_count": 2,
   "metadata": {},
   "outputs": [
    {
     "name": "stdout",
     "output_type": "stream",
     "text": [
      "Swapped: a = 9  b = 8\n"
     ]
    }
   ],
   "source": [
    "def swapfunc(a, b):\n",
    "    a = a + b\n",
    "    b = a - b\n",
    "    a = a - b\n",
    "    print(\"Swapped: a =\", a, \" b =\", b)\n",
    "\n",
    "swapfunc(8, 9)"
   ]
  },
  {
   "cell_type": "markdown",
   "metadata": {},
   "source": [
    "3. Computing the distance\n",
    "\n",
    "Write a function that calculates and returns the euclidean distance between two points u and v, where u and v are both 2-tuples (x,y). For example, if u=(3,0) and v=(0,4), the function should return 5"
   ]
  },
  {
   "cell_type": "code",
   "execution_count": 3,
   "metadata": {},
   "outputs": [
    {
     "name": "stdout",
     "output_type": "stream",
     "text": [
      "5.0\n"
     ]
    }
   ],
   "source": [
    "import math\n",
    "def euclidean_distance(u, v):\n",
    "    distance = math.sqrt(((u[0]-v[0])**2)+((u[1]-v[1])**2))\n",
    "    print(distance)\n",
    "\n",
    "euclidean_distance([3, 0], [0, 4])"
   ]
  },
  {
   "cell_type": "markdown",
   "metadata": {},
   "source": [
    "4. Counting letters\n",
    "\n",
    "Write a program to calculate the number of times each character occurs in a given string s. Ignore differences in capitalization\n"
   ]
  },
  {
   "cell_type": "code",
   "execution_count": 4,
   "metadata": {},
   "outputs": [
    {
     "name": "stdout",
     "output_type": "stream",
     "text": [
      "a: 7\n",
      "b: 5\n",
      "c: 1\n",
      "d: 5\n",
      "e: 20\n",
      "f: 10\n",
      "g: 1\n",
      "h: 11\n",
      "i: 12\n",
      "j: 0\n",
      "k: 0\n",
      "l: 12\n",
      "m: 8\n",
      "n: 10\n",
      "o: 15\n",
      "p: 8\n",
      "q: 0\n",
      "r: 19\n",
      "s: 7\n",
      "t: 19\n",
      "u: 7\n",
      "v: 2\n",
      "w: 4\n",
      "x: 0\n",
      "y: 0\n",
      "z: 0\n"
     ]
    }
   ],
   "source": [
    "import string\n",
    "s = \"Write a program that prints the numbers from 1 to 100. \\\n",
    "But for multiples of three print Hello instead of the number and for the multiples of five print World. \\\n",
    "For numbers which are multiples of both three and five print HelloWorld.\"\n",
    "def counting_letter(s):\n",
    "    alphabet_string_lowecase = string.ascii_lowercase\n",
    "    alphabet_list_lowecase = list(alphabet_string_lowecase)\n",
    "    alphabet_string_uppercase = string.ascii_uppercase\n",
    "    alphabet_list_uppercase = list(alphabet_string_uppercase)\n",
    "    for i in range(26):\n",
    "        print(alphabet_list_lowecase[i], end=': ')\n",
    "        print(s.count(alphabet_list_lowecase[i]) + s.count(alphabet_list_uppercase[i]))\n",
    "\n",
    "counting_letter(s)"
   ]
  }
 ],
 "metadata": {
  "interpreter": {
   "hash": "0bcc78bc1c3e4185a1bb5d5311c1a881c2fed6218afc723045c33b4b4a3dcd44"
  },
  "kernelspec": {
   "display_name": "Python 3.8.8 64-bit ('base': conda)",
   "language": "python",
   "name": "python3"
  },
  "language_info": {
   "codemirror_mode": {
    "name": "ipython",
    "version": 3
   },
   "file_extension": ".py",
   "mimetype": "text/x-python",
   "name": "python",
   "nbconvert_exporter": "python",
   "pygments_lexer": "ipython3",
   "version": "3.8.8"
  },
  "orig_nbformat": 4
 },
 "nbformat": 4,
 "nbformat_minor": 2
}
